{
  "nbformat": 4,
  "nbformat_minor": 0,
  "metadata": {
    "colab": {
      "provenance": [],
      "authorship_tag": "ABX9TyPAcdsxxkX7RRAytOuBjsto",
      "include_colab_link": true
    },
    "kernelspec": {
      "name": "python3",
      "display_name": "Python 3"
    },
    "language_info": {
      "name": "python"
    }
  },
  "cells": [
    {
      "cell_type": "markdown",
      "metadata": {
        "id": "view-in-github",
        "colab_type": "text"
      },
      "source": [
        "<a href=\"https://colab.research.google.com/github/SergioMadeiraJr/DataProjects/blob/main/Regress%C3%A3o_linear.ipynb\" target=\"_parent\"><img src=\"https://colab.research.google.com/assets/colab-badge.svg\" alt=\"Open In Colab\"/></a>"
      ]
    },
    {
      "cell_type": "markdown",
      "source": [
        "**Criando um diagrama de dispersão**"
      ],
      "metadata": {
        "id": "AhJZRi3vBZhP"
      }
    },
    {
      "cell_type": "code",
      "source": [
        "import numpy as np\n",
        "\n",
        "tabela = np.array([4000, 14.1,\n",
        "                   6000, 13.0,\n",
        "                   8000, 13.4,\n",
        "                   12000, 12.5,\n",
        "                   16000, 12.0,\n",
        "                   20000, 12.4,\n",
        "                   30000, 10.5,\n",
        "                   45000, 9.4,\n",
        "                   60000, 8.2])\n",
        "\n",
        "part1 = [x for i, x in enumerate(tabela) if i%2 == 0]\n",
        "part2 = [x for i, x in enumerate(tabela) if i%2 != 0]\n",
        "\n",
        "print(part1)\n",
        "print(part2)"
      ],
      "metadata": {
        "colab": {
          "base_uri": "https://localhost:8080/"
        },
        "id": "y2WVW5OvFL8n",
        "outputId": "ea0a731f-d5d5-4417-ff89-603e1b64f1ae"
      },
      "execution_count": null,
      "outputs": [
        {
          "output_type": "stream",
          "name": "stdout",
          "text": [
            "[4000.0, 6000.0, 8000.0, 12000.0, 16000.0, 20000.0, 30000.0, 45000.0, 60000.0]\n",
            "[14.1, 13.0, 13.4, 12.5, 12.0, 12.4, 10.5, 9.4, 8.2]\n"
          ]
        }
      ]
    },
    {
      "cell_type": "code",
      "execution_count": null,
      "metadata": {
        "colab": {
          "base_uri": "https://localhost:8080/",
          "height": 265
        },
        "id": "4Oj--6nGA2KA",
        "outputId": "d8ad813a-7e96-44d3-93af-ef72e0700e98"
      },
      "outputs": [
        {
          "output_type": "display_data",
          "data": {
            "text/plain": [
              "<Figure size 432x288 with 1 Axes>"
            ],
            "image/png": "[encoded data removed]"
          },
          "metadata": {
            "needs_background": "light"
          }
        }
      ],
      "source": [
        "import matplotlib.pyplot as plt\n",
        "\n",
        "x = part1\n",
        "y = part2\n",
        "\n",
        "plt.scatter(x, y)\n",
        "plt.show()\n"
      ]
    },
    {
      "cell_type": "markdown",
      "source": [
        "Criando um gráfio de linha baseado no primeiro e último ponto"
      ],
      "metadata": {
        "id": "BlNHsrYkeXov"
      }
    },
    {
      "cell_type": "code",
      "source": [
        "\n",
        "# Definindo os pontos\n",
        "x = [4000, 60000]\n",
        "y = [14.1, 8.2]\n",
        "\n",
        "# Plotando o gráfico de linhas\n",
        "plt.plot(x, y)\n",
        "\n",
        "# Adicionando rótulos aos eixos\n",
        "plt.xlabel('Eixo X')\n",
        "plt.ylabel('Eixo Y')\n",
        "\n",
        "# Exibindo o gráfico\n",
        "plt.show()\n"
      ],
      "metadata": {
        "colab": {
          "base_uri": "https://localhost:8080/",
          "height": 279
        },
        "id": "rxmQ8U07-5jm",
        "outputId": "e404ed08-2127-4f3f-dfba-f476dba4ec0d"
      },
      "execution_count": null,
      "outputs": [
        {
          "output_type": "display_data",
          "data": {
            "text/plain": [
              "<Figure size 432x288 with 1 Axes>"
            ],
            "image/png": "[encoded data removed]"
          },
          "metadata": {
            "needs_background": "light"
          }
        }
      ]
    },
    {
      "cell_type": "markdown",
      "source": [
        "Através da biblioteca numpy calculei os coeficientes da equação da reta"
      ],
      "metadata": {
        "id": "IjZ1Heteegsl"
      }
    },
    {
      "cell_type": "code",
      "source": [
        "import numpy as np\n",
        "import matplotlib.pyplot as plt\n",
        "\n",
        "# Definindo os pontos\n",
        "x = [4000, 60000]\n",
        "y = [14.1, 8.2]\n",
        "\n",
        "# Calculando os coeficientes da equação da reta\n",
        "a, b = np.polyfit(x, y, 1)\n",
        "\n",
        "# Exibindo a equação da reta (y = ax + b)\n",
        "print(f'y = {a}x + {b}')\n",
        "\n",
        "# Plotando o gráfico de linhas\n",
        "plt.plot(x, y)\n",
        "\n",
        "# Adicionando rótulos aos eixos\n",
        "plt.xlabel('Eixo X')\n",
        "plt.ylabel('Eixo Y')\n",
        "\n",
        "# Exibindo o gráfico\n",
        "plt.show()\n"
      ],
      "metadata": {
        "colab": {
          "base_uri": "https://localhost:8080/",
          "height": 296
        },
        "id": "ddsRUlPN_o21",
        "outputId": "6e679b8c-2c0a-4678-baff-82a208a53f1b"
      },
      "execution_count": null,
      "outputs": [
        {
          "output_type": "stream",
          "name": "stdout",
          "text": [
            "y = -0.00010535714285714296x + 14.521428571428581\n"
          ]
        },
        {
          "output_type": "display_data",
          "data": {
            "text/plain": [
              "<Figure size 432x288 with 1 Axes>"
            ],
            "image/png": "[encoded data removed]"
          },
          "metadata": {
            "needs_background": "light"
          }
        }
      ]
    },
    {
      "cell_type": "code",
      "source": [
        "\n",
        "\n",
        "# Criando dados de treinamento\n",
        "x_train = renda\n",
        "y_train = part2\n",
        "\n",
        "# Calculando os coeficientes da equação da linha de regressão\n",
        "a, b = np.polyfit(x_train, y_train, 1)\n",
        "\n",
        "# Gerando valores previstos para o gráfico\n",
        "x_pred = np.linspace(np.min(x_train), np.max(x_train), 100)\n",
        "y_pred = a * x_pred + b\n",
        "\n",
        "# Plotando os dados e a equação da linha de regressão\n",
        "plt.scatter(x_train, y_train)\n",
        "plt.plot(x_pred, y_pred, color='red')\n",
        "plt.xlabel('X')\n",
        "plt.ylabel('Y')\n",
        "plt.show()\n"
      ],
      "metadata": {
        "colab": {
          "base_uri": "https://localhost:8080/",
          "height": 279
        },
        "id": "cqaFhJQc9hm-",
        "outputId": "3c413ae5-07c6-4d9a-a35c-8ecfb035c710"
      },
      "execution_count": null,
      "outputs": [
        {
          "output_type": "display_data",
          "data": {
            "text/plain": [
              "<Figure size 432x288 with 1 Axes>"
            ],
            "image/png": "[encoded data removed]"
          },
          "metadata": {
            "needs_background": "light"
          }
        }
      ]
    },
    {
      "cell_type": "code",
      "source": [
        "import plotly.express as px\n",
        "from sklearn.linear_model import LinearRegression\n",
        "\n",
        "# Criando dados de treinamento\n",
        "x_train = renda.reshape(-1, 1)\n",
        "y_train = part2\n",
        "\n",
        "# Criando o modelo de regressão linear\n",
        "model = LinearRegression()\n",
        "\n",
        "# Treinando o modelo com os dados de treinamento\n",
        "model.fit(x_train, y_train)\n",
        "\n",
        "# Gerando valores previstos para o gráfico\n",
        "x_pred = np.linspace(np.min(x_train), np.max(x_train), 100).reshape(-1, 1)\n",
        "y_pred = model.predict(x_pred)\n",
        "\n",
        "# Plotando os dados e a equação da linha de regressão\n",
        "fig = px.scatter(x=x_train.ravel(), y=y_train, labels={'x':'X', 'y':'Y'}, title='Regressão Linear')\n",
        "fig.add_scatter(x=x_pred.ravel(), y=y_pred, mode='lines', line=dict(color='red'))\n",
        "fig.show()\n"
      ],
      "metadata": {
        "colab": {
          "base_uri": "https://localhost:8080/",
          "height": 542
        },
        "id": "i1F9_UH4-GKz",
        "outputId": "996ecf13-3f4c-48a7-c2a0-34e6408e236c"
      },
      "execution_count": null,
      "outputs": [
        {
          "output_type": "display_data",
          "data": {
            "text/html": [
              "<html>\n",
              "<head><meta charset=\"utf-8\" /></head>\n",
              "<body>\n",
              "    <div>            <script src=\"https://cdnjs.cloudflare.com/ajax/libs/mathjax/2.7.5/MathJax.js?config=TeX-AMS-MML_SVG\"></script><script type=\"text/javascript\">if (window.MathJax) {MathJax.Hub.Config({SVG: {font: \"STIX-Web\"}});}</script>                <script type=\"text/javascript\">window.PlotlyConfig = {MathJaxConfig: 'local'};</script>\n",
              "        <script src=\"https://cdn.plot.ly/plotly-2.8.3.min.js\"></script>                <div id=\"fdb611bb-eec3-420e-aadc-1d34cce4ca62\" class=\"plotly-graph-div\" style=\"height:525px; width:100%;\"></div>            <script type=\"text/javascript\">                                    window.PLOTLYENV=window.PLOTLYENV || {};                                    if (document.getElementById(\"fdb611bb-eec3-420e-aadc-1d34cce4ca62\")) {                    Plotly.newPlot(                        \"fdb611bb-eec3-420e-aadc-1d34cce4ca62\",                        [{\"hovertemplate\":\"X=%{x}<br>Y=%{y}<extra></extra>\",\"legendgroup\":\"\",\"marker\":{\"color\":\"#636efa\",\"symbol\":\"circle\"},\"mode\":\"markers\",\"name\":\"\",\"orientation\":\"v\",\"showlegend\":false,\"x\":[4000.0,6000.0,8000.0,12000.0,16000.0,20000.0,30000.0,45000.0,60000.0],\"xaxis\":\"x\",\"y\":[14.1,13.0,13.4,12.5,12.0,12.4,10.5,9.4,8.2],\"yaxis\":\"y\",\"type\":\"scatter\"},{\"line\":{\"color\":\"red\"},\"mode\":\"lines\",\"x\":[4000.0,4565.656565656565,5131.313131313132,5696.969696969697,6262.626262626263,6828.282828282829,7393.939393939394,7959.595959595959,8525.252525252527,9090.909090909092,9656.565656565657,10222.222222222223,10787.878787878788,11353.535353535353,11919.191919191919,12484.848484848486,13050.505050505051,13616.161616161617,14181.818181818182,14747.47474747475,15313.131313131315,15878.78787878788,16444.444444444445,17010.10101010101,17575.757575757576,18141.41414141414,18707.070707070707,19272.727272727272,19838.383838383837,20404.040404040406,20969.69696969697,21535.353535353537,22101.010101010103,22666.666666666668,23232.323232323233,23797.9797979798,24363.636363636364,24929.29292929293,25494.9494949495,26060.606060606064,26626.26262626263,27191.919191919194,27757.57575757576,28323.232323232325,28888.88888888889,29454.545454545456,30020.20202020202,30585.858585858587,31151.515151515152,31717.17171717172,32282.828282828286,32848.48484848485,33414.14141414141,33979.79797979798,34545.454545454544,35111.11111111111,35676.767676767675,36242.42424242424,36808.08080808081,37373.73737373738,37939.39393939394,38505.05050505051,39070.707070707074,39636.36363636364,40202.020202020205,40767.67676767677,41333.333333333336,41898.9898989899,42464.64646464647,43030.30303030303,43595.9595959596,44161.61616161616,44727.27272727273,45292.92929292929,45858.58585858586,46424.24242424243,46989.898989899,47555.55555555556,48121.21212121213,48686.86868686869,49252.52525252526,49818.18181818182,50383.83838383839,50949.494949494954,51515.15151515152,52080.808080808085,52646.46464646465,53212.121212121216,53777.77777777778,54343.43434343435,54909.09090909091,55474.74747474748,56040.40404040404,56606.06060606061,57171.71717171717,57737.37373737374,58303.030303030304,58868.68686868688,59434.34343434344,60000.0],\"y\":[13.551622252333633,13.495177953883914,13.438733655434197,13.382289356984478,13.325845058534759,13.269400760085041,13.212956461635322,13.156512163185603,13.100067864735886,13.043623566286167,12.98717926783645,12.93073496938673,12.874290670937011,12.817846372487294,12.761402074037575,12.704957775587856,12.648513477138138,12.59206917868842,12.5356248802387,12.479180581788981,12.422736283339264,12.366291984889545,12.309847686439827,12.253403387990108,12.196959089540389,12.140514791090672,12.084070492640953,12.027626194191233,11.971181895741516,11.914737597291797,11.858293298842078,11.801849000392359,11.745404701942642,11.688960403492922,11.632516105043205,11.576071806593486,11.519627508143767,11.46318320969405,11.40673891124433,11.350294612794611,11.293850314344894,11.237406015895175,11.180961717445456,11.124517418995739,11.06807312054602,11.011628822096302,10.955184523646583,10.898740225196864,10.842295926747145,10.785851628297427,10.729407329847708,10.672963031397991,10.616518732948272,10.560074434498553,10.503630136048836,10.447185837599116,10.390741539149397,10.33429724069968,10.277852942249961,10.221408643800242,10.164964345350523,10.108520046900805,10.052075748451086,9.995631450001369,9.93918715155165,9.88274285310193,9.826298554652212,9.769854256202494,9.713409957752775,9.656965659303058,9.600521360853339,9.54407706240362,9.4876327639539,9.431188465504183,9.374744167054466,9.318299868604747,9.261855570155028,9.205411271705309,9.14896697325559,9.092522674805872,9.036078376356153,8.979634077906436,8.923189779456717,8.866745481006998,8.810301182557279,8.753856884107561,8.697412585657844,8.640968287208125,8.584523988758406,8.528079690308687,8.471635391858968,8.41519109340925,8.358746794959533,8.302302496509814,8.245858198060095,8.189413899610376,8.132969601160658,8.07652530271094,8.02008100426122,7.963636705811503],\"type\":\"scatter\"}],                        {\"template\":{\"data\":{\"bar\":[{\"error_x\":{\"color\":\"#2a3f5f\"},\"error_y\":{\"color\":\"#2a3f5f\"},\"marker\":{\"line\":{\"color\":\"#E5ECF6\",\"width\":0.5},\"pattern\":{\"fillmode\":\"overlay\",\"size\":10,\"solidity\":0.2}},\"type\":\"bar\"}],\"barpolar\":[{\"marker\":{\"line\":{\"color\":\"#E5ECF6\",\"width\":0.5},\"pattern\":{\"fillmode\":\"overlay\",\"size\":10,\"solidity\":0.2}},\"type\":\"barpolar\"}],\"carpet\":[{\"aaxis\":{\"endlinecolor\":\"#2a3f5f\",\"gridcolor\":\"white\",\"linecolor\":\"white\",\"minorgridcolor\":\"white\",\"startlinecolor\":\"#2a3f5f\"},\"baxis\":{\"endlinecolor\":\"#2a3f5f\",\"gridcolor\":\"white\",\"linecolor\":\"white\",\"minorgridcolor\":\"white\",\"startlinecolor\":\"#2a3f5f\"},\"type\":\"carpet\"}],\"choropleth\":[{\"colorbar\":{\"outlinewidth\":0,\"ticks\":\"\"},\"type\":\"choropleth\"}],\"contour\":[{\"colorbar\":{\"outlinewidth\":0,\"ticks\":\"\"},\"colorscale\":[[0.0,\"#0d0887\"],[0.1111111111111111,\"#46039f\"],[0.2222222222222222,\"#7201a8\"],[0.3333333333333333,\"#9c179e\"],[0.4444444444444444,\"#bd3786\"],[0.5555555555555556,\"#d8576b\"],[0.6666666666666666,\"#ed7953\"],[0.7777777777777778,\"#fb9f3a\"],[0.8888888888888888,\"#fdca26\"],[1.0,\"#f0f921\"]],\"type\":\"contour\"}],\"contourcarpet\":[{\"colorbar\":{\"outlinewidth\":0,\"ticks\":\"\"},\"type\":\"contourcarpet\"}],\"heatmap\":[{\"colorbar\":{\"outlinewidth\":0,\"ticks\":\"\"},\"colorscale\":[[0.0,\"#0d0887\"],[0.1111111111111111,\"#46039f\"],[0.2222222222222222,\"#7201a8\"],[0.3333333333333333,\"#9c179e\"],[0.4444444444444444,\"#bd3786\"],[0.5555555555555556,\"#d8576b\"],[0.6666666666666666,\"#ed7953\"],[0.7777777777777778,\"#fb9f3a\"],[0.8888888888888888,\"#fdca26\"],[1.0,\"#f0f921\"]],\"type\":\"heatmap\"}],\"heatmapgl\":[{\"colorbar\":{\"outlinewidth\":0,\"ticks\":\"\"},\"colorscale\":[[0.0,\"#0d0887\"],[0.1111111111111111,\"#46039f\"],[0.2222222222222222,\"#7201a8\"],[0.3333333333333333,\"#9c179e\"],[0.4444444444444444,\"#bd3786\"],[0.5555555555555556,\"#d8576b\"],[0.6666666666666666,\"#ed7953\"],[0.7777777777777778,\"#fb9f3a\"],[0.8888888888888888,\"#fdca26\"],[1.0,\"#f0f921\"]],\"type\":\"heatmapgl\"}],\"histogram\":[{\"marker\":{\"pattern\":{\"fillmode\":\"overlay\",\"size\":10,\"solidity\":0.2}},\"type\":\"histogram\"}],\"histogram2d\":[{\"colorbar\":{\"outlinewidth\":0,\"ticks\":\"\"},\"colorscale\":[[0.0,\"#0d0887\"],[0.1111111111111111,\"#46039f\"],[0.2222222222222222,\"#7201a8\"],[0.3333333333333333,\"#9c179e\"],[0.4444444444444444,\"#bd3786\"],[0.5555555555555556,\"#d8576b\"],[0.6666666666666666,\"#ed7953\"],[0.7777777777777778,\"#fb9f3a\"],[0.8888888888888888,\"#fdca26\"],[1.0,\"#f0f921\"]],\"type\":\"histogram2d\"}],\"histogram2dcontour\":[{\"colorbar\":{\"outlinewidth\":0,\"ticks\":\"\"},\"colorscale\":[[0.0,\"#0d0887\"],[0.1111111111111111,\"#46039f\"],[0.2222222222222222,\"#7201a8\"],[0.3333333333333333,\"#9c179e\"],[0.4444444444444444,\"#bd3786\"],[0.5555555555555556,\"#d8576b\"],[0.6666666666666666,\"#ed7953\"],[0.7777777777777778,\"#fb9f3a\"],[0.8888888888888888,\"#fdca26\"],[1.0,\"#f0f921\"]],\"type\":\"histogram2dcontour\"}],\"mesh3d\":[{\"colorbar\":{\"outlinewidth\":0,\"ticks\":\"\"},\"type\":\"mesh3d\"}],\"parcoords\":[{\"line\":{\"colorbar\":{\"outlinewidth\":0,\"ticks\":\"\"}},\"type\":\"parcoords\"}],\"pie\":[{\"automargin\":true,\"type\":\"pie\"}],\"scatter\":[{\"marker\":{\"colorbar\":{\"outlinewidth\":0,\"ticks\":\"\"}},\"type\":\"scatter\"}],\"scatter3d\":[{\"line\":{\"colorbar\":{\"outlinewidth\":0,\"ticks\":\"\"}},\"marker\":{\"colorbar\":{\"outlinewidth\":0,\"ticks\":\"\"}},\"type\":\"scatter3d\"}],\"scattercarpet\":[{\"marker\":{\"colorbar\":{\"outlinewidth\":0,\"ticks\":\"\"}},\"type\":\"scattercarpet\"}],\"scattergeo\":[{\"marker\":{\"colorbar\":{\"outlinewidth\":0,\"ticks\":\"\"}},\"type\":\"scattergeo\"}],\"scattergl\":[{\"marker\":{\"colorbar\":{\"outlinewidth\":0,\"ticks\":\"\"}},\"type\":\"scattergl\"}],\"scattermapbox\":[{\"marker\":{\"colorbar\":{\"outlinewidth\":0,\"ticks\":\"\"}},\"type\":\"scattermapbox\"}],\"scatterpolar\":[{\"marker\":{\"colorbar\":{\"outlinewidth\":0,\"ticks\":\"\"}},\"type\":\"scatterpolar\"}],\"scatterpolargl\":[{\"marker\":{\"colorbar\":{\"outlinewidth\":0,\"ticks\":\"\"}},\"type\":\"scatterpolargl\"}],\"scatterternary\":[{\"marker\":{\"colorbar\":{\"outlinewidth\":0,\"ticks\":\"\"}},\"type\":\"scatterternary\"}],\"surface\":[{\"colorbar\":{\"outlinewidth\":0,\"ticks\":\"\"},\"colorscale\":[[0.0,\"#0d0887\"],[0.1111111111111111,\"#46039f\"],[0.2222222222222222,\"#7201a8\"],[0.3333333333333333,\"#9c179e\"],[0.4444444444444444,\"#bd3786\"],[0.5555555555555556,\"#d8576b\"],[0.6666666666666666,\"#ed7953\"],[0.7777777777777778,\"#fb9f3a\"],[0.8888888888888888,\"#fdca26\"],[1.0,\"#f0f921\"]],\"type\":\"surface\"}],\"table\":[{\"cells\":{\"fill\":{\"color\":\"#EBF0F8\"},\"line\":{\"color\":\"white\"}},\"header\":{\"fill\":{\"color\":\"#C8D4E3\"},\"line\":{\"color\":\"white\"}},\"type\":\"table\"}]},\"layout\":{\"annotationdefaults\":{\"arrowcolor\":\"#2a3f5f\",\"arrowhead\":0,\"arrowwidth\":1},\"autotypenumbers\":\"strict\",\"coloraxis\":{\"colorbar\":{\"outlinewidth\":0,\"ticks\":\"\"}},\"colorscale\":{\"diverging\":[[0,\"#8e0152\"],[0.1,\"#c51b7d\"],[0.2,\"#de77ae\"],[0.3,\"#f1b6da\"],[0.4,\"#fde0ef\"],[0.5,\"#f7f7f7\"],[0.6,\"#e6f5d0\"],[0.7,\"#b8e186\"],[0.8,\"#7fbc41\"],[0.9,\"#4d9221\"],[1,\"#276419\"]],\"sequential\":[[0.0,\"#0d0887\"],[0.1111111111111111,\"#46039f\"],[0.2222222222222222,\"#7201a8\"],[0.3333333333333333,\"#9c179e\"],[0.4444444444444444,\"#bd3786\"],[0.5555555555555556,\"#d8576b\"],[0.6666666666666666,\"#ed7953\"],[0.7777777777777778,\"#fb9f3a\"],[0.8888888888888888,\"#fdca26\"],[1.0,\"#f0f921\"]],\"sequentialminus\":[[0.0,\"#0d0887\"],[0.1111111111111111,\"#46039f\"],[0.2222222222222222,\"#7201a8\"],[0.3333333333333333,\"#9c179e\"],[0.4444444444444444,\"#bd3786\"],[0.5555555555555556,\"#d8576b\"],[0.6666666666666666,\"#ed7953\"],[0.7777777777777778,\"#fb9f3a\"],[0.8888888888888888,\"#fdca26\"],[1.0,\"#f0f921\"]]},\"colorway\":[\"#636efa\",\"#EF553B\",\"#00cc96\",\"#ab63fa\",\"#FFA15A\",\"#19d3f3\",\"#FF6692\",\"#B6E880\",\"#FF97FF\",\"#FECB52\"],\"font\":{\"color\":\"#2a3f5f\"},\"geo\":{\"bgcolor\":\"white\",\"lakecolor\":\"white\",\"landcolor\":\"#E5ECF6\",\"showlakes\":true,\"showland\":true,\"subunitcolor\":\"white\"},\"hoverlabel\":{\"align\":\"left\"},\"hovermode\":\"closest\",\"mapbox\":{\"style\":\"light\"},\"paper_bgcolor\":\"white\",\"plot_bgcolor\":\"#E5ECF6\",\"polar\":{\"angularaxis\":{\"gridcolor\":\"white\",\"linecolor\":\"white\",\"ticks\":\"\"},\"bgcolor\":\"#E5ECF6\",\"radialaxis\":{\"gridcolor\":\"white\",\"linecolor\":\"white\",\"ticks\":\"\"}},\"scene\":{\"xaxis\":{\"backgroundcolor\":\"#E5ECF6\",\"gridcolor\":\"white\",\"gridwidth\":2,\"linecolor\":\"white\",\"showbackground\":true,\"ticks\":\"\",\"zerolinecolor\":\"white\"},\"yaxis\":{\"backgroundcolor\":\"#E5ECF6\",\"gridcolor\":\"white\",\"gridwidth\":2,\"linecolor\":\"white\",\"showbackground\":true,\"ticks\":\"\",\"zerolinecolor\":\"white\"},\"zaxis\":{\"backgroundcolor\":\"#E5ECF6\",\"gridcolor\":\"white\",\"gridwidth\":2,\"linecolor\":\"white\",\"showbackground\":true,\"ticks\":\"\",\"zerolinecolor\":\"white\"}},\"shapedefaults\":{\"line\":{\"color\":\"#2a3f5f\"}},\"ternary\":{\"aaxis\":{\"gridcolor\":\"white\",\"linecolor\":\"white\",\"ticks\":\"\"},\"baxis\":{\"gridcolor\":\"white\",\"linecolor\":\"white\",\"ticks\":\"\"},\"bgcolor\":\"#E5ECF6\",\"caxis\":{\"gridcolor\":\"white\",\"linecolor\":\"white\",\"ticks\":\"\"}},\"title\":{\"x\":0.05},\"xaxis\":{\"automargin\":true,\"gridcolor\":\"white\",\"linecolor\":\"white\",\"ticks\":\"\",\"title\":{\"standoff\":15},\"zerolinecolor\":\"white\",\"zerolinewidth\":2},\"yaxis\":{\"automargin\":true,\"gridcolor\":\"white\",\"linecolor\":\"white\",\"ticks\":\"\",\"title\":{\"standoff\":15},\"zerolinecolor\":\"white\",\"zerolinewidth\":2}}},\"xaxis\":{\"anchor\":\"y\",\"domain\":[0.0,1.0],\"title\":{\"text\":\"X\"}},\"yaxis\":{\"anchor\":\"x\",\"domain\":[0.0,1.0],\"title\":{\"text\":\"Y\"}},\"legend\":{\"tracegroupgap\":0},\"title\":{\"text\":\"Regress\\u00e3o Linear\"}},                        {\"responsive\": true}                    ).then(function(){\n",
              "                            \n",
              "var gd = document.getElementById('fdb611bb-eec3-420e-aadc-1d34cce4ca62');\n",
              "var x = new MutationObserver(function (mutations, observer) {{\n",
              "        var display = window.getComputedStyle(gd).display;\n",
              "        if (!display || display === 'none') {{\n",
              "            console.log([gd, 'removed!']);\n",
              "            Plotly.purge(gd);\n",
              "            observer.disconnect();\n",
              "        }}\n",
              "}});\n",
              "\n",
              "// Listen for the removal of the full notebook cells\n",
              "var notebookContainer = gd.closest('#notebook-container');\n",
              "if (notebookContainer) {{\n",
              "    x.observe(notebookContainer, {childList: true});\n",
              "}}\n",
              "\n",
              "// Listen for the clearing of the current output cell\n",
              "var outputEl = gd.closest('.output');\n",
              "if (outputEl) {{\n",
              "    x.observe(outputEl, {childList: true});\n",
              "}}\n",
              "\n",
              "                        })                };                            </script>        </div>\n",
              "</body>\n",
              "</html>"
            ]
          },
          "metadata": {}
        }
      ]
    },
    {
      "cell_type": "code",
      "source": [
        "\n",
        "\n",
        "renda = np.array(part1)\n",
        "# Criando dados de treinamento\n",
        "x_train = renda.reshape(-1, 1)\n",
        "y_train = part2\n",
        "\n",
        "# Criando o modelo de regressão linear\n",
        "model = LinearRegression()\n",
        "\n",
        "# Treinando o modelo com os dados de treinamento\n",
        "model.fit(x_train, y_train)\n",
        "\n",
        "# Fazendo previsões com o modelo treinado\n",
        "x_test = np.array([25000, 80000, 200000]).reshape(-1, 1)\n",
        "y_pred = model.predict(x_test)\n",
        "\n",
        "print(y_pred)\n"
      ],
      "metadata": {
        "colab": {
          "base_uri": "https://localhost:8080/"
        },
        "id": "PvMma9Yv8M9N",
        "outputId": "e04ee634-30a9-4d95-e751-c25dc9db6e49"
      },
      "execution_count": null,
      "outputs": [
        {
          "output_type": "stream",
          "name": "stdout",
          "text": [
            "[11.45612767  5.96792758 -6.00632716]\n"
          ]
        }
      ]
    }
  ]
}